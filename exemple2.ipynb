{
 "cells": [
  {
   "cell_type": "markdown",
   "metadata": {},
   "source": [
    "## Graph avec Matplotlib"
   ]
  },
  {
   "cell_type": "code",
   "execution_count": 3,
   "metadata": {},
   "outputs": [
    {
     "data": {
      "image/png": "[encoded data removed]",
      "text/plain": [
       "<Figure size 432x288 with 1 Axes>"
      ]
     },
     "metadata": {
      "needs_background": "light"
     },
     "output_type": "display_data"
    }
   ],
   "source": [
    "%matplotlib inline\n",
    "\n",
    "from matplotlib.pyplot import figure, show\n",
    "from numpy import arange, sin, pi\n",
    "\n",
    "t = arange(0.0, 1.0, 0.01)\n",
    "\n",
    "fig = figure(1)\n",
    "\n",
    "ax = fig.add_subplot(211)\n",
    "ax.plot(t, sin(2*pi*t))\n",
    "ax.grid(True)\n",
    "ax.set_ylim((-2, 2))\n",
    "ax.set_ylabel('1 Hz')\n",
    "ax.set_title('A sin wave')\n",
    "\n",
    "show()"
   ]
  },
  {
   "cell_type": "markdown",
   "metadata": {},
   "source": [
    "## Widgets"
   ]
  },
  {
   "cell_type": "code",
   "execution_count": 2,
   "metadata": {},
   "outputs": [
    {
     "data": {
      "application/vnd.jupyter.widget-view+json": {
       "model_id": "d67fee73e00d401cb60391858f23e9ab",
       "version_major": 2,
       "version_minor": 0
      },
      "text/plain": [
       "interactive(children=(FloatSlider(value=1.0, description='max', max=10.0), Output()), _dom_classes=('widget-in…"
      ]
     },
     "metadata": {},
     "output_type": "display_data"
    }
   ],
   "source": [
    "%matplotlib inline\n",
    "\n",
    "from ipywidgets import interact, interactive, fixed, interact_manual\n",
    "import ipywidgets as widgets\n",
    "\n",
    "from matplotlib.pyplot import figure, show\n",
    "from numpy import arange, sin, pi\n",
    "\n",
    "def graph(max=1.0):\n",
    "    t = arange(0.0, max, 0.01)\n",
    "\n",
    "    fig = figure(1)\n",
    "\n",
    "    ax = fig.add_subplot(211)\n",
    "    ax.plot(t, sin(2*pi*t))\n",
    "    ax.grid(True)\n",
    "    ax.set_ylim((-2, 2))\n",
    "    ax.set_ylabel('1 Hz')\n",
    "    ax.set_title('A sin wave')\n",
    "\n",
    "    show()\n",
    "\n",
    "interact(graph, max=widgets.FloatSlider(min=0, max=10, step=0.1, value=1.0));"
   ]
  },
  {
   "cell_type": "markdown",
   "metadata": {},
   "source": [
    "## Magic Commands"
   ]
  },
  {
   "cell_type": "code",
   "execution_count": 31,
   "metadata": {},
   "outputs": [
    {
     "name": "stdout",
     "output_type": "stream",
     "text": [
      "\u001b[0m\u001b[01;34mAndroid\u001b[0m/                \u001b[01;34mDesktop\u001b[0m/    \u001b[01;34mlibvirt\u001b[0m/  \u001b[34;42mPictures\u001b[0m/     \u001b[01;34mSSL\u001b[0m/        \u001b[01;34mVideos\u001b[0m/\n",
      "\u001b[01;34mAndroidStudioProjects\u001b[0m/  \u001b[01;34mDocuments\u001b[0m/  \u001b[01;34mMnt\u001b[0m/      \u001b[01;34mPublic\u001b[0m/       \u001b[01;34mTemplates\u001b[0m/\n",
      "\u001b[01;34mApplications\u001b[0m/           \u001b[01;34mDownloads\u001b[0m/  \u001b[01;34mMusic\u001b[0m/    \u001b[01;34mquattor-git\u001b[0m/  test\n",
      "\u001b[01;34mbin\u001b[0m/                    \u001b[01;34mgo\u001b[0m/         \u001b[01;34mMyDrive\u001b[0m/  \u001b[01;34msnap\u001b[0m/         test.scad\n",
      "\u001b[01;34mCodes\u001b[0m/                  \u001b[01;34mipxe\u001b[0m/       \u001b[01;34mPacker\u001b[0m/   \u001b[01;34mSources\u001b[0m/      \u001b[01;34mTmp\u001b[0m/\n"
     ]
    }
   ],
   "source": [
    "%ls"
   ]
  },
  {
   "cell_type": "markdown",
   "metadata": {},
   "source": [
    "## Shell Commands"
   ]
  },
  {
   "cell_type": "code",
   "execution_count": 33,
   "metadata": {},
   "outputs": [
    {
     "name": "stdout",
     "output_type": "stream",
     "text": [
      "Android\t\t       Desktop\t  libvirt  Pictures\tSSL\t   Videos\n",
      "AndroidStudioProjects  Documents  Mnt\t   Public\tTemplates\n",
      "Applications\t       Downloads  Music    quattor-git\ttest\n",
      "bin\t\t       go\t  MyDrive  snap\t\ttest.scad\n",
      "Codes\t\t       ipxe\t  Packer   Sources\tTmp\n"
     ]
    }
   ],
   "source": [
    "!ls"
   ]
  },
  {
   "cell_type": "markdown",
   "metadata": {},
   "source": [
    "## Contenu riche !"
   ]
  },
  {
   "cell_type": "markdown",
   "metadata": {},
   "source": [
    "### Texte"
   ]
  },
  {
   "cell_type": "markdown",
   "metadata": {},
   "source": [
    "# Titre 1\n",
    "\n",
    "## Titre 1.1\n",
    "\n",
    "Nam tincidunt nisi massa, nec tristique lorem viverra at. Proin feugiat eleifend nibh, vel maximus nulla vulputate non. Duis auctor dolor vitae dolor gravida, posuere facilisis est ultrices. Etiam orci mauris, euismod sit amet posuere nec, luctus ut ante. Quisque lobortis eros ut rutrum eleifend. Quisque lobortis, nunc in feugiat molestie, lorem odio placerat ligula, id malesuada ligula tortor at nunc. Proin dapibus sagittis tellus quis posuere. Nunc vehicula arcu nunc. Fusce finibus diam vel viverra convallis.\n",
    "\n",
    "## Titre 1.2\n",
    "\n",
    "Nullam venenatis egestas orci ut consequat. Sed sit amet urna sapien. Maecenas in ligula nisi. Phasellus luctus enim suscipit, blandit risus laoreet, imperdiet nibh. Nunc mattis, metus eu porttitor ultricies, ex dolor dictum quam, at mattis mi mi aliquam ipsum. Phasellus est nisl, elementum eget porttitor ac, tincidunt at ipsum. Vestibulum blandit lectus eget enim placerat vestibulum. Nunc pellentesque imperdiet porta. Fusce tempus a sapien eget aliquam. Aliquam rutrum, lectus ullamcorper venenatis vulputate, justo metus tincidunt risus, et convallis ligula leo eget justo. Sed eu dapibus dui. Donec tempor, leo in varius egestas, purus nulla finibus lacus, bibendum molestie elit sem vitae turpis. Pellentesque porttitor, lacus vel vehicula tempus, orci orci fermentum urna, eget vehicula ex nisi quis eros. Phasellus vitae neque ex. Phasellus mattis ullamcorper dolor. \n",
    "\n",
    "# Titre 2\n",
    "\n",
    "Lorem ipsum dolor sit amet, consectetur adipiscing elit. Sed ut augue sit amet turpis volutpat vestibulum tempus efficitur mauris. Pellentesque augue arcu, placerat aliquam sem nec, efficitur ultrices lacus. Suspendisse aliquam vestibulum elit, sit amet vestibulum purus mollis in. Vestibulum rutrum molestie metus, nec tincidunt lectus consectetur eu. Aliquam ullamcorper, libero a congue mollis, tellus ipsum ornare lorem, eget rutrum erat risus viverra nulla. Praesent scelerisque leo scelerisque augue consequat, ac ultricies magna ullamcorper. Quisque placerat elit tortor, quis luctus ex fringilla ac. Praesent volutpat fringilla orci. Sed in eros et lectus euismod luctus a sit amet leo. Nam vitae tincidunt massa. Aliquam mollis lectus nec tincidunt interdum. Mauris dictum auctor nulla, ut tempus felis facilisis quis. Nunc auctor lorem dolor, id aliquam odio vulputate nec. Donec blandit fringilla diam interdum pretium. "
   ]
  },
  {
   "cell_type": "markdown",
   "metadata": {},
   "source": [
    "### Formatage"
   ]
  },
  {
   "cell_type": "markdown",
   "metadata": {},
   "source": [
    "**Lorem ipsum** dolor *sit amet*."
   ]
  },
  {
   "cell_type": "markdown",
   "metadata": {},
   "source": [
    "## Listes"
   ]
  },
  {
   "cell_type": "markdown",
   "metadata": {},
   "source": [
    " * luctus\n",
    " * vestibulum\n",
    " * sit amet\n",
    "\n",
    " 1. mattis\n",
    "   1. scelerisque\n",
    "   1. consectetur\n",
    " 1. tempus\n",
    " 1. augue"
   ]
  },
  {
   "cell_type": "markdown",
   "metadata": {},
   "source": [
    "## Tableau"
   ]
  },
  {
   "cell_type": "markdown",
   "metadata": {},
   "source": [
    "| feugiat | ligula    | consectetur | eleifend  | quam    |\n",
    "|---------|-----------|-------------|-----------|---------|\n",
    "| sed     | ultricies | lorem       | semper    | ut      |\n",
    "| turpis  | volutpat  | dapibus     | elit      | nisi    |\n",
    "| eros    | gravida   | nulla       | porttitor | viverra |"
   ]
  },
  {
   "cell_type": "markdown",
   "metadata": {},
   "source": [
    "## Image"
   ]
  },
  {
   "cell_type": "markdown",
   "metadata": {},
   "source": [
    "![Logo](https://lapth.cnrs.fr/images/logo/lapth.png)"
   ]
  },
  {
   "cell_type": "markdown",
   "metadata": {},
   "source": [
    "## Latex"
   ]
  },
  {
   "cell_type": "markdown",
   "metadata": {},
   "source": [
    "$ x = {-b \\pm \\sqrt{b^2-4ac} \\over 2a}. $"
   ]
  },
  {
   "cell_type": "markdown",
   "metadata": {},
   "source": [
    "### HTML"
   ]
  },
  {
   "cell_type": "code",
   "execution_count": 21,
   "metadata": {},
   "outputs": [],
   "source": [
    "class Title(object):\n",
    "    def __init__(self, text, logo=None):\n",
    "        self.text = text\n",
    "        self.logo = logo\n",
    "\n",
    "    def _repr_html_(self):\n",
    "        if self.logo:\n",
    "            html = '<h1><img src=\"{logo}\" />{text}</h1>'.format(text=self.text, logo=self.logo)\n",
    "        else:\n",
    "            html = '<h1>{text}</h1>'.format(text=self.text)\n",
    "        return html"
   ]
  },
  {
   "cell_type": "code",
   "execution_count": 22,
   "metadata": {},
   "outputs": [
    {
     "data": {
      "text/html": [
       "<h1>Mon Titre1</h1>"
      ],
      "text/plain": [
       "<__main__.Title at 0x7fda12749cd0>"
      ]
     },
     "execution_count": 22,
     "metadata": {},
     "output_type": "execute_result"
    }
   ],
   "source": [
    "Title(\"Mon Titre1\")"
   ]
  },
  {
   "cell_type": "code",
   "execution_count": 24,
   "metadata": {},
   "outputs": [
    {
     "data": {
      "text/html": [
       "<h1><img src=\"https://lapth.cnrs.fr/images/logo/lapth.png\" />Mon Titre2</h1>"
      ],
      "text/plain": [
       "<__main__.Title at 0x7fda1274d810>"
      ]
     },
     "execution_count": 24,
     "metadata": {},
     "output_type": "execute_result"
    }
   ],
   "source": [
    "Title(\"Mon Titre2\", logo='https://lapth.cnrs.fr/images/logo/lapth.png')"
   ]
  },
  {
   "cell_type": "markdown",
   "metadata": {},
   "source": [
    "## Magic commands"
   ]
  },
  {
   "cell_type": "code",
   "execution_count": 33,
   "metadata": {},
   "outputs": [
    {
     "name": "stdout",
     "output_type": "stream",
     "text": [
      "/home/gauthierl/Tmp\n"
     ]
    }
   ],
   "source": [
    "%cd ~/Tmp"
   ]
  },
  {
   "cell_type": "code",
   "execution_count": 34,
   "metadata": {},
   "outputs": [
    {
     "name": "stdout",
     "output_type": "stream",
     "text": [
      "\u001b[0m\u001b[01;34mctapipe\u001b[0m/  hosts2  hosts4    \u001b[01;34mnats.rb\u001b[0m/    \u001b[01;34mtest\u001b[0m/     test2unix\n",
      "hosts     hosts3  \u001b[01;34mnats.js\u001b[0m/  \u001b[01;34mrustlings\u001b[0m/  test2dos\n"
     ]
    }
   ],
   "source": [
    "%ls"
   ]
  },
  {
   "cell_type": "code",
   "execution_count": 35,
   "metadata": {},
   "outputs": [
    {
     "data": {
      "text/plain": [
       "'/home/gauthierl/Tmp'"
      ]
     },
     "execution_count": 35,
     "metadata": {},
     "output_type": "execute_result"
    }
   ],
   "source": [
    "%pwd"
   ]
  },
  {
   "cell_type": "code",
   "execution_count": null,
   "metadata": {},
   "outputs": [
    {
     "name": "stdout",
     "output_type": "stream",
     "text": [
      "rm: remove write-protected regular file 'hosts2'? "
     ]
    }
   ],
   "source": [
    "%rm hosts2"
   ]
  },
  {
   "cell_type": "code",
   "execution_count": 11,
   "metadata": {},
   "outputs": [
    {
     "data": {
      "application/vnd.jupyter.widget-view+json": {
       "model_id": "123357391c36486b86b5ca5943eb9996",
       "version_major": 2,
       "version_minor": 0
      },
      "text/plain": [
       "Map(basemap={'url': 'https://{s}.tile.openstreetmap.org/{z}/{x}/{y}.png', 'max_zoom': 19, 'attribution': 'Map …"
      ]
     },
     "metadata": {},
     "output_type": "display_data"
    }
   ],
   "source": [
    "from ipyleaflet import Map, Marker\n",
    "lab = (45.9212404, 6.1594074)\n",
    "m = Map(center=lab, zoom=16)\n",
    "marker = Marker(location=lab, draggable=False)\n",
    "m.add_layer(marker);\n",
    "m"
   ]
  }
 ],
 "metadata": {
  "kernelspec": {
   "display_name": "Python 3",
   "language": "python",
   "name": "python3"
  },
  "language_info": {
   "codemirror_mode": {
    "name": "ipython",
    "version": 3
   },
   "file_extension": ".py",
   "mimetype": "text/x-python",
   "name": "python",
   "nbconvert_exporter": "python",
   "pygments_lexer": "ipython3",
   "version": "3.7.5rc1"
  }
 },
 "nbformat": 4,
 "nbformat_minor": 4
}
